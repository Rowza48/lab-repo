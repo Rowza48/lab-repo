{
  "nbformat": 4,
  "nbformat_minor": 0,
  "metadata": {
    "colab": {
      "provenance": [],
      "authorship_tag": "ABX9TyNmayZkDEEapsJiFg2oPLeB",
      "include_colab_link": true
    },
    "kernelspec": {
      "name": "python3",
      "display_name": "Python 3"
    },
    "language_info": {
      "name": "python"
    }
  },
  "cells": [
    {
      "cell_type": "markdown",
      "metadata": {
        "id": "view-in-github",
        "colab_type": "text"
      },
      "source": [
        "<a href=\"https://colab.research.google.com/github/Rowza48/lab-repo/blob/main/Untitled0.ipynb\" target=\"_parent\"><img src=\"https://colab.research.google.com/assets/colab-badge.svg\" alt=\"Open In Colab\"/></a>"
      ]
    },
    {
      "cell_type": "code",
      "execution_count": 1,
      "metadata": {
        "colab": {
          "base_uri": "https://localhost:8080/"
        },
        "id": "9nQ-ktI8Cv6I",
        "outputId": "540a2e66-d062-4001-e358-51071b82c2ce"
      },
      "outputs": [
        {
          "output_type": "stream",
          "name": "stdout",
          "text": [
            "Hello World\n"
          ]
        }
      ],
      "source": [
        "print('Hello World')"
      ]
    },
    {
      "cell_type": "markdown",
      "source": [
        "Remove single dimensional entries from the shape o an array"
      ],
      "metadata": {
        "id": "yQqvnZIoDWsM"
      }
    },
    {
      "cell_type": "code",
      "source": [
        "import numpy as np\n",
        "arr = np.array([[[1, 2, 3]]])\n",
        "squeezed_arr = np.squeeze(arr)\n",
        "print(\"Original shape:\", arr.shape)\n",
        "print(\"Squeezed shape:\", squeezed_arr.shape)"
      ],
      "metadata": {
        "colab": {
          "base_uri": "https://localhost:8080/"
        },
        "id": "2TGTbDCrDVUt",
        "outputId": "64f6586a-f976-4330-cffa-315ca6f84922"
      },
      "execution_count": 3,
      "outputs": [
        {
          "output_type": "stream",
          "name": "stdout",
          "text": [
            "Original shape: (1, 1, 3)\n",
            "Squeezed shape: (3,)\n"
          ]
        }
      ]
    },
    {
      "cell_type": "markdown",
      "source": [
        "How to check whether specified values are present in Numpy array?"
      ],
      "metadata": {
        "id": "JzFqnX7sEyoE"
      }
    },
    {
      "cell_type": "code",
      "source": [
        "import numpy as np\n",
        "arr = np.array([1, 2, 3, 4, 5])\n",
        "values_to_check = [2, 6, 4]\n",
        "present_values = np.isin(arr, values_to_check)\n",
        "print(f\"Original array: {arr}\")\n",
        "print(f\"Values to check: {values_to_check}\")\n",
        "print(f\"Boolean array indicating presence: {present_values}\")\n",
        "present_in_array = arr[present_values]\n",
        "print(f\"Values from the array that are present: {present_in_array}\")"
      ],
      "metadata": {
        "colab": {
          "base_uri": "https://localhost:8080/"
        },
        "id": "1ceVILxtEuaE",
        "outputId": "1d05f24e-5d23-47e2-82e5-ed32a31bc3c1"
      },
      "execution_count": 4,
      "outputs": [
        {
          "output_type": "stream",
          "name": "stdout",
          "text": [
            "Original array: [1 2 3 4 5]\n",
            "Values to check: [2, 6, 4]\n",
            "Boolean array indicating presence: [False  True False  True False]\n",
            "Values from the array that are present: [2 4]\n"
          ]
        }
      ]
    },
    {
      "cell_type": "markdown",
      "source": [
        "How to access different rows of a multidimensional Numpy array?"
      ],
      "metadata": {
        "id": "ujiOnMptFleE"
      }
    },
    {
      "cell_type": "code",
      "metadata": {
        "colab": {
          "base_uri": "https://localhost:8080/"
        },
        "id": "06dab536",
        "outputId": "ac531b96-c0ed-4fa1-bc28-c406adfebbfe"
      },
      "source": [
        "import numpy as np\n",
        "arr = np.array([[1, 2, 3],\n",
        "                [4, 5, 6],\n",
        "                [7, 8, 9]])\n",
        "print(\"Original array:\")\n",
        "print(arr)\n",
        "first_row = arr[0]\n",
        "print(\"\\nFirst row:\")\n",
        "print(first_row)\n",
        "second_row = arr[1]\n",
        "print(\"\\nSecond row:\")\n",
        "print(second_row)\n",
        "multiple_rows = arr[[0, 2]]\n",
        "print(\"\\nFirst and third rows:\")\n",
        "print(multiple_rows)\n",
        "rows_from_second = arr[1:]\n",
        "print(\"\\nRows from the second row onwards:\")\n",
        "print(rows_from_second)"
      ],
      "execution_count": 6,
      "outputs": [
        {
          "output_type": "stream",
          "name": "stdout",
          "text": [
            "Original array:\n",
            "[[1 2 3]\n",
            " [4 5 6]\n",
            " [7 8 9]]\n",
            "\n",
            "First row:\n",
            "[1 2 3]\n",
            "\n",
            "Second row:\n",
            "[4 5 6]\n",
            "\n",
            "First and third rows:\n",
            "[[1 2 3]\n",
            " [7 8 9]]\n",
            "\n",
            "Rows from the second row onwards:\n",
            "[[4 5 6]\n",
            " [7 8 9]]\n"
          ]
        }
      ]
    },
    {
      "cell_type": "markdown",
      "source": [
        "Determine the positive square root of an array"
      ],
      "metadata": {
        "id": "cEDtes0eGhC-"
      }
    },
    {
      "cell_type": "code",
      "metadata": {
        "colab": {
          "base_uri": "https://localhost:8080/"
        },
        "id": "466af779",
        "outputId": "45a7031f-0d87-4bad-edac-1fec109d1a20"
      },
      "source": [
        "import numpy as np\n",
        "arr = np.array([1, 4, 9, 16, 25])\n",
        "sqrt_arr = np.sqrt(arr)\n",
        "print(\"Original array:\")\n",
        "print(arr)\n",
        "print(\"\\nPositive square root of the array:\")\n",
        "print(sqrt_arr)\n",
        "arr_float = np.array([1.0, 2.25, 3.14, 4.0])\n",
        "sqrt_arr_float = np.sqrt(arr_float)\n",
        "print(\"\\nOriginal float array:\")\n",
        "print(arr_float)\n",
        "print(\"\\nPositive square root of the float array:\")\n",
        "print(sqrt_arr_float)"
      ],
      "execution_count": 7,
      "outputs": [
        {
          "output_type": "stream",
          "name": "stdout",
          "text": [
            "Original array:\n",
            "[ 1  4  9 16 25]\n",
            "\n",
            "Positive square root of the array:\n",
            "[1. 2. 3. 4. 5.]\n",
            "\n",
            "Original float array:\n",
            "[1.   2.25 3.14 4.  ]\n",
            "\n",
            "Positive square root of the float array:\n",
            "[1.         1.5        1.77200451 2.        ]\n"
          ]
        }
      ]
    },
    {
      "cell_type": "markdown",
      "source": [
        "Get filled the diagonals of Numpy array"
      ],
      "metadata": {
        "id": "Egm2PLVNHPlc"
      }
    },
    {
      "cell_type": "code",
      "metadata": {
        "colab": {
          "base_uri": "https://localhost:8080/"
        },
        "id": "a717d070",
        "outputId": "bd4de354-25ab-45fc-b76a-2a97944402ca"
      },
      "source": [
        "import numpy as np\n",
        "arr = np.zeros((3, 3))\n",
        "print(\"Original array:\")\n",
        "print(arr)\n",
        "\n",
        "np.fill_diagonal(arr, 1)\n",
        "print(\"\\nArray with filled diagonals:\")\n",
        "print(arr)"
      ],
      "execution_count": 11,
      "outputs": [
        {
          "output_type": "stream",
          "name": "stdout",
          "text": [
            "Original array:\n",
            "[[0. 0. 0.]\n",
            " [0. 0. 0.]\n",
            " [0. 0. 0.]]\n",
            "\n",
            "Array with filled diagonals:\n",
            "[[1. 0. 0.]\n",
            " [0. 1. 0.]\n",
            " [0. 0. 1.]]\n"
          ]
        }
      ]
    },
    {
      "cell_type": "markdown",
      "source": [
        "Find a matrix or vector norm using Numpy"
      ],
      "metadata": {
        "id": "7qxUYlD4I5mk"
      }
    },
    {
      "cell_type": "code",
      "metadata": {
        "colab": {
          "base_uri": "https://localhost:8080/"
        },
        "id": "f40de1a9",
        "outputId": "ee01240d-6687-4d48-c167-8fa8ff67359d"
      },
      "source": [
        "vector = np.array([1, 2, 3, 4, 5])\n",
        "vector_norm = np.linalg.norm(vector)\n",
        "print(\"Vector:\", vector)\n",
        "print(\"Vector Norm (L2):\", vector_norm)\n",
        "matrix = np.array([[1, 2],\n",
        "                   [3, 4]])\n",
        "matrix_norm = np.linalg.norm(matrix)\n",
        "print(\"\\nMatrix:\")\n",
        "print(matrix)\n",
        "print(\"Matrix Norm (Frobenius):\", matrix_norm)\n",
        "vector_l1_norm = np.linalg.norm(vector, ord=1)\n",
        "print(\"\\nVector L1 Norm:\", vector_l1_norm)\n",
        "matrix_inf_norm = np.linalg.norm(matrix, ord=np.inf)\n",
        "print(\"Matrix L-infinity Norm:\", matrix_inf_norm)"
      ],
      "execution_count": 14,
      "outputs": [
        {
          "output_type": "stream",
          "name": "stdout",
          "text": [
            "Vector: [1 2 3 4 5]\n",
            "Vector Norm (L2): 7.416198487095663\n",
            "\n",
            "Matrix:\n",
            "[[1 2]\n",
            " [3 4]]\n",
            "Matrix Norm (Frobenius): 5.477225575051661\n",
            "\n",
            "Vector L1 Norm: 15.0\n",
            "Matrix L-infinity Norm: 7.0\n"
          ]
        }
      ]
    },
    {
      "cell_type": "markdown",
      "source": [],
      "metadata": {
        "id": "n4V_i4DZKvYs"
      }
    },
    {
      "cell_type": "code",
      "source": [],
      "metadata": {
        "id": "B5bDQy98Kufl"
      },
      "execution_count": null,
      "outputs": []
    }
  ]
}